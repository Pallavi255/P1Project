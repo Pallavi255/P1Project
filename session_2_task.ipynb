{
  "nbformat": 4,
  "nbformat_minor": 0,
  "metadata": {
    "colab": {
      "provenance": [],
      "include_colab_link": true
    },
    "kernelspec": {
      "name": "python3",
      "display_name": "Python 3"
    },
    "language_info": {
      "name": "python"
    }
  },
  "cells": [
    {
      "cell_type": "markdown",
      "metadata": {
        "id": "view-in-github",
        "colab_type": "text"
      },
      "source": [
        "<a href=\"https://colab.research.google.com/github/Pallavi255/P1Project/blob/main/session_2_task.ipynb\" target=\"_parent\"><img src=\"https://colab.research.google.com/assets/colab-badge.svg\" alt=\"Open In Colab\"/></a>"
      ]
    },
    {
      "cell_type": "markdown",
      "source": [
        "### `Problem 1`: Write a program that will give you in hand monthly salary after deduction on CTC - HRA(10%), DA(5%), PF(3%) and taxes deduction as below:\n",
        "\n",
        "> Salary(Lakhs) : Tax(%)\n",
        "\n",
        "*   Below 5 : 0%\n",
        "*   5-10 : 10%\n",
        "*   10-20 : 20%\n",
        "*   aboove 20 : 30%"
      ],
      "metadata": {
        "id": "w6RlOAXV2PWh"
      }
    },
    {
      "cell_type": "code",
      "source": [
        "# Write code here\n",
        "ctc = int(input('Enter your anual CTC:'))\n",
        "\n",
        "if ctc < 5000000:\n",
        "    salary=ctc*.82\n",
        "elif ctc<1000000:\n",
        "    salary=ctc*.72\n",
        "elif ctc<2000000:\n",
        "    salary=ctc*.62\n",
        "else:\n",
        "    salary=ctc*.52\n",
        "\n",
        "print(\"You in hand monthly salary will be-\", round(salary/12,2))"
      ],
      "metadata": {
        "id": "7tMHvKYO2etI",
        "colab": {
          "base_uri": "https://localhost:8080/"
        },
        "outputId": "b80b2081-7c5b-4abc-c02b-499478ac2ba3"
      },
      "execution_count": 1,
      "outputs": [
        {
          "output_type": "stream",
          "name": "stdout",
          "text": [
            "Enter your anual CTC:1000000\n",
            "You in hand monthly salary will be- 68333.33\n"
          ]
        }
      ]
    },
    {
      "cell_type": "markdown",
      "source": [
        "### `Problem 2`: Write a program that take a user input of three angles and will find out whether it can form a triangle or not."
      ],
      "metadata": {
        "id": "tYzCGqwl2hfN"
      }
    },
    {
      "cell_type": "code",
      "source": [
        "# Write code here\n",
        "a=int(input(\"Enter threee different angles\"))\n",
        "b=int(input(\"Enter threee different angles\"))\n",
        "c=int(input(\"Enter threee different angles\"))\n",
        "if (a+b+c)==180:\n",
        "  print(\"It forms a triangle\")\n",
        "else:\n",
        "  print(\"No it does not form triangle\")"
      ],
      "metadata": {
        "id": "FYEqln-I2kxV",
        "colab": {
          "base_uri": "https://localhost:8080/"
        },
        "outputId": "58cbbe14-3f0b-40da-c731-181271cc34b4"
      },
      "execution_count": 6,
      "outputs": [
        {
          "output_type": "stream",
          "name": "stdout",
          "text": [
            "Enter threee different angles45\n",
            "Enter threee different angles23\n",
            "Enter threee different angles12\n",
            "No it does not form triangle\n"
          ]
        }
      ]
    },
    {
      "cell_type": "markdown",
      "source": [
        "### `Problem 3`: Write a program that will take user input of cost price and selling price and determines whether its a loss or a profit."
      ],
      "metadata": {
        "id": "5vEpPh8C2pE4"
      }
    },
    {
      "cell_type": "code",
      "source": [
        "# Write code here\n",
        "CP=int(input(\"Enter the cost price\"))\n",
        "SP=int(input(\"Enter the selling price\"))\n",
        "\n",
        "if SP>CP:\n",
        "  print(\"Its Profit\")\n",
        "else:\n",
        "  print(\"Its a loss\")"
      ],
      "metadata": {
        "id": "jDwBXlkO2sfl",
        "colab": {
          "base_uri": "https://localhost:8080/"
        },
        "outputId": "b62ee822-f740-4210-ab36-a4c5bae5cc66"
      },
      "execution_count": 10,
      "outputs": [
        {
          "output_type": "stream",
          "name": "stdout",
          "text": [
            "Enter the cost price20\n",
            "Enter the selling price40\n",
            "Its Profit\n"
          ]
        }
      ]
    },
    {
      "cell_type": "markdown",
      "source": [
        "### `Problem 4`: Write a menu-driven program -\n",
        "1. cm to ft\n",
        "2. km to miles\n",
        "3. USD to INR\n",
        "4. exit"
      ],
      "metadata": {
        "id": "J_FG_cJW2ugT"
      }
    },
    {
      "cell_type": "code",
      "source": [
        "# Write code here\n",
        "menu = input(\"\"\"\n",
        "Hi select an option\n",
        "1. cms to ft\n",
        "2. km to miles\n",
        "3. USD to INR\n",
        "4. Exit\n",
        "\"\"\")\n",
        "\n",
        "if menu == '1':\n",
        "  cm = float(input('enter the cm value'))\n",
        "  print('ft value is',0.032*cm)\n",
        "elif menu == '2':\n",
        "  km = float(input('enter the km value'))\n",
        "  print('miles value is',km*0.62)\n",
        "elif menu == '3':\n",
        "  usd = float(input('enter usd'))\n",
        "  print('inr',usd*80)\n",
        "else:\n",
        "  exit()"
      ],
      "metadata": {
        "id": "yBHhaCGQ2zpD",
        "colab": {
          "base_uri": "https://localhost:8080/"
        },
        "outputId": "ec1ba71b-d2cc-4123-8fba-62ba66cd8dd2"
      },
      "execution_count": 11,
      "outputs": [
        {
          "output_type": "stream",
          "name": "stdout",
          "text": [
            "\n",
            "Hi select an option\n",
            "1. cms to ft\n",
            "2. km to miles\n",
            "3. USD to INR\n",
            "4. Exit\n",
            "2\n",
            "enter the km value22\n",
            "miles value is 13.64\n"
          ]
        }
      ]
    },
    {
      "cell_type": "markdown",
      "source": [
        "### `Problem 5` - Exercise 12: Display Fibonacci series up to 10 terms.\n",
        "\n",
        "*Note: The Fibonacci Sequence is a series of numbers. The next number is found by adding up the two numbers before it. The first two numbers are 0 and 1. For example, 0, 1, 1, 2, 3, 5, 8, 13, 21. The next number in this series above is 13+21 = 34*"
      ],
      "metadata": {
        "id": "LJJ30_Yw27ZU"
      }
    },
    {
      "cell_type": "code",
      "source": [
        "# Write code here\n",
        "num1,num2=0,1\n",
        "for i in range(0,10):\n",
        "  print(num1)\n",
        "\n",
        "  next=num1+num2\n",
        "\n",
        "  num1=num2\n",
        "  num2=next\n",
        "\n",
        "\n",
        "\n",
        "\n"
      ],
      "metadata": {
        "id": "ae_1rpe52-5R",
        "colab": {
          "base_uri": "https://localhost:8080/"
        },
        "outputId": "5f2d28ae-ccb3-4a8a-fcf2-038bb77c6b38"
      },
      "execution_count": 12,
      "outputs": [
        {
          "output_type": "stream",
          "name": "stdout",
          "text": [
            "0\n",
            "1\n",
            "1\n",
            "2\n",
            "3\n",
            "5\n",
            "8\n",
            "13\n",
            "21\n",
            "34\n"
          ]
        }
      ]
    },
    {
      "cell_type": "markdown",
      "source": [
        "### `Problem 6` - Find the factorial of a given number.\n",
        "\n",
        "Write a program to use the loop to find the factorial of a given number.\n",
        "\n",
        "The factorial (symbol: `!`) means to multiply all whole numbers from the chosen number down to 1.\n",
        "\n",
        "For example: calculate the factorial of 5\n",
        "\n",
        "```bash\n",
        "5! = 5 × 4 × 3 × 2 × 1 = 120\n",
        "```\n",
        "\n",
        "Output:\n",
        "\n",
        "```bash\n",
        "120\n",
        "```"
      ],
      "metadata": {
        "id": "pk_I_S4m3PT5"
      }
    },
    {
      "cell_type": "code",
      "source": [
        "# Write code here\n",
        "num=int(input(\"Enter a given number\"))\n",
        "fact=1\n",
        "for i in range(num,1,-1):\n",
        "  fact=fact*i\n",
        "\n",
        "print(fact)\n",
        "\n",
        "\n"
      ],
      "metadata": {
        "id": "lzXxHegx3Rkc",
        "colab": {
          "base_uri": "https://localhost:8080/"
        },
        "outputId": "ea8e9eac-a199-4e99-fc91-959a306a28a1"
      },
      "execution_count": 15,
      "outputs": [
        {
          "output_type": "stream",
          "name": "stdout",
          "text": [
            "Enter a given number5\n",
            "120\n"
          ]
        }
      ]
    },
    {
      "cell_type": "markdown",
      "source": [
        "### `Problem 7` - Reverse a given integer number.\n",
        "\n",
        "Example:\n",
        "\n",
        "`Input:`\n",
        "\n",
        "```bash\n",
        "76542\n",
        "```\n",
        "\n",
        "`Output:`\n",
        "\n",
        "```bash\n",
        "24567\n",
        "```"
      ],
      "metadata": {
        "id": "-17IOi-g3UpU"
      }
    },
    {
      "cell_type": "code",
      "source": [
        "# Write code here\n",
        "number=int(input(\"Enter any number\"))\n",
        "rev = 0\n",
        "\n",
        "while number>0:\n",
        "  last = number%10\n",
        "  rev = rev*10 + last\n",
        "  number = number//10\n",
        "\n",
        "print(rev)\n"
      ],
      "metadata": {
        "id": "wJwLpKCr3aVA",
        "colab": {
          "base_uri": "https://localhost:8080/"
        },
        "outputId": "36709f82-4b3a-4550-d79a-f23486b5bf5b"
      },
      "execution_count": 17,
      "outputs": [
        {
          "output_type": "stream",
          "name": "stdout",
          "text": [
            "Enter any number234\n",
            "432\n"
          ]
        }
      ]
    },
    {
      "cell_type": "markdown",
      "source": [
        "### `Problem 8`: Take a user input as integer N. Find out the sum from 1 to N. If any number if divisible by 5, then skip that number. And if the sum is greater than 300, don't need to calculate the sum further more. Print the final result. And don't use for loop to solve this problem.\n",
        "\n",
        "**Example 1:**\n",
        "\n",
        "`Input:`\n",
        "\n",
        "```bash\n",
        "30\n",
        "```\n",
        "\n",
        "`Output:`\n",
        "\n",
        "```bash\n",
        "276\n",
        "```"
      ],
      "metadata": {
        "id": "-t8PJQaY3sHf"
      }
    },
    {
      "cell_type": "code",
      "source": [
        "# Write code here\n",
        "n=int(input(\"Enter any number\"))\n",
        "\n",
        "sum=0\n",
        "i=1\n",
        "while i<n+1:\n",
        "  if i%5==0:\n",
        "    i+=1\n",
        "    continue\n",
        "\n",
        "  sum+=i\n",
        "\n",
        "  if sum>300:\n",
        "    sum-=i\n",
        "    break\n",
        "\n",
        "  i+=1\n",
        "\n",
        "\n",
        "print(sum)\n"
      ],
      "metadata": {
        "id": "GZB6mGMP3ujT",
        "colab": {
          "base_uri": "https://localhost:8080/"
        },
        "outputId": "1d2e9036-c9ed-4de4-b6b7-49e4cde7656e"
      },
      "execution_count": 9,
      "outputs": [
        {
          "output_type": "stream",
          "name": "stdout",
          "text": [
            "Enter any number50\n",
            "276\n"
          ]
        }
      ]
    },
    {
      "cell_type": "markdown",
      "source": [
        "### `Problem 9`: Write a program that keeps on accepting a number from the user until the user enters Zero. Display the sum and average of all the numbers."
      ],
      "metadata": {
        "id": "Q7ggImeA3xm4"
      }
    },
    {
      "cell_type": "code",
      "source": [
        "# Write code here\n",
        "num=int(input(\"Enter the number\"))\n",
        "sum=0\n",
        "count=0\n",
        "while num!=0:\n",
        "  sum+=num\n",
        "  count=count+1\n",
        "  num=int(input(\"Enter the number\"))\n",
        "print(sum)\n",
        "print(count)\n",
        "print(\"Avg is\",sum/count)\n",
        "\n"
      ],
      "metadata": {
        "id": "t_YDSZDe4Kdo",
        "colab": {
          "base_uri": "https://localhost:8080/"
        },
        "outputId": "1887c91f-56b6-4a4e-92af-db4194cba6ce"
      },
      "execution_count": 15,
      "outputs": [
        {
          "output_type": "stream",
          "name": "stdout",
          "text": [
            "Enter the number1\n",
            "Enter the number2\n",
            "Enter the number3\n",
            "Enter the number4\n",
            "Enter the number5\n",
            "Enter the number0\n",
            "15\n",
            "5\n",
            "Avg is 3.0\n"
          ]
        }
      ]
    },
    {
      "cell_type": "markdown",
      "source": [
        "###`Problem 9`: Write a program which will find all such numbers which are divisible by 7 but are not a multiple of 5, between 2000 and 3200 (both included). The numbers obtained should be printed in a comma-separated sequence on a single line."
      ],
      "metadata": {
        "id": "6EhvEMvm4R7s"
      }
    },
    {
      "cell_type": "code",
      "source": [
        "# Write code here\n",
        "\n",
        "for i in range(2000,3001):\n",
        "  if i%7==0 and i%5!=0:\n",
        "    print(i,end=',')\n",
        "\n",
        "\n"
      ],
      "metadata": {
        "id": "d6RgP1B34T6c",
        "colab": {
          "base_uri": "https://localhost:8080/"
        },
        "outputId": "4b7339c6-fae3-4376-bd31-5121b3856181"
      },
      "execution_count": 17,
      "outputs": [
        {
          "output_type": "stream",
          "name": "stdout",
          "text": [
            "2002,2009,2016,2023,2037,2044,2051,2058,2072,2079,2086,2093,2107,2114,2121,2128,2142,2149,2156,2163,2177,2184,2191,2198,2212,2219,2226,2233,2247,2254,2261,2268,2282,2289,2296,2303,2317,2324,2331,2338,2352,2359,2366,2373,2387,2394,2401,2408,2422,2429,2436,2443,2457,2464,2471,2478,2492,2499,2506,2513,2527,2534,2541,2548,2562,2569,2576,2583,2597,2604,2611,2618,2632,2639,2646,2653,2667,2674,2681,2688,2702,2709,2716,2723,2737,2744,2751,2758,2772,2779,2786,2793,2807,2814,2821,2828,2842,2849,2856,2863,2877,2884,2891,2898,2912,2919,2926,2933,2947,2954,2961,2968,2982,2989,2996,"
          ]
        }
      ]
    },
    {
      "cell_type": "markdown",
      "source": [
        "###`Problem 10`: Write a program, which will find all such numbers between 1000 and 3000 (both included) such that each digit of the number is an even number. The numbers obtained should be printed in a space-separated sequence on a single line.\n",
        "\n"
      ],
      "metadata": {
        "id": "tYvmRR-G4Vp4"
      }
    },
    {
      "cell_type": "code",
      "source": [
        "# Write code here\n",
        "for i in range(2000,3001):\n",
        "  if i%2==0:\n",
        "    print(i,end=' ')\n",
        "\n"
      ],
      "metadata": {
        "id": "k6Gs1kIf4k19",
        "colab": {
          "base_uri": "https://localhost:8080/"
        },
        "outputId": "0f4f622f-d7dd-4cfd-a0be-924e84c2eec5"
      },
      "execution_count": 18,
      "outputs": [
        {
          "output_type": "stream",
          "name": "stdout",
          "text": [
            "2000 2002 2004 2006 2008 2010 2012 2014 2016 2018 2020 2022 2024 2026 2028 2030 2032 2034 2036 2038 2040 2042 2044 2046 2048 2050 2052 2054 2056 2058 2060 2062 2064 2066 2068 2070 2072 2074 2076 2078 2080 2082 2084 2086 2088 2090 2092 2094 2096 2098 2100 2102 2104 2106 2108 2110 2112 2114 2116 2118 2120 2122 2124 2126 2128 2130 2132 2134 2136 2138 2140 2142 2144 2146 2148 2150 2152 2154 2156 2158 2160 2162 2164 2166 2168 2170 2172 2174 2176 2178 2180 2182 2184 2186 2188 2190 2192 2194 2196 2198 2200 2202 2204 2206 2208 2210 2212 2214 2216 2218 2220 2222 2224 2226 2228 2230 2232 2234 2236 2238 2240 2242 2244 2246 2248 2250 2252 2254 2256 2258 2260 2262 2264 2266 2268 2270 2272 2274 2276 2278 2280 2282 2284 2286 2288 2290 2292 2294 2296 2298 2300 2302 2304 2306 2308 2310 2312 2314 2316 2318 2320 2322 2324 2326 2328 2330 2332 2334 2336 2338 2340 2342 2344 2346 2348 2350 2352 2354 2356 2358 2360 2362 2364 2366 2368 2370 2372 2374 2376 2378 2380 2382 2384 2386 2388 2390 2392 2394 2396 2398 2400 2402 2404 2406 2408 2410 2412 2414 2416 2418 2420 2422 2424 2426 2428 2430 2432 2434 2436 2438 2440 2442 2444 2446 2448 2450 2452 2454 2456 2458 2460 2462 2464 2466 2468 2470 2472 2474 2476 2478 2480 2482 2484 2486 2488 2490 2492 2494 2496 2498 2500 2502 2504 2506 2508 2510 2512 2514 2516 2518 2520 2522 2524 2526 2528 2530 2532 2534 2536 2538 2540 2542 2544 2546 2548 2550 2552 2554 2556 2558 2560 2562 2564 2566 2568 2570 2572 2574 2576 2578 2580 2582 2584 2586 2588 2590 2592 2594 2596 2598 2600 2602 2604 2606 2608 2610 2612 2614 2616 2618 2620 2622 2624 2626 2628 2630 2632 2634 2636 2638 2640 2642 2644 2646 2648 2650 2652 2654 2656 2658 2660 2662 2664 2666 2668 2670 2672 2674 2676 2678 2680 2682 2684 2686 2688 2690 2692 2694 2696 2698 2700 2702 2704 2706 2708 2710 2712 2714 2716 2718 2720 2722 2724 2726 2728 2730 2732 2734 2736 2738 2740 2742 2744 2746 2748 2750 2752 2754 2756 2758 2760 2762 2764 2766 2768 2770 2772 2774 2776 2778 2780 2782 2784 2786 2788 2790 2792 2794 2796 2798 2800 2802 2804 2806 2808 2810 2812 2814 2816 2818 2820 2822 2824 2826 2828 2830 2832 2834 2836 2838 2840 2842 2844 2846 2848 2850 2852 2854 2856 2858 2860 2862 2864 2866 2868 2870 2872 2874 2876 2878 2880 2882 2884 2886 2888 2890 2892 2894 2896 2898 2900 2902 2904 2906 2908 2910 2912 2914 2916 2918 2920 2922 2924 2926 2928 2930 2932 2934 2936 2938 2940 2942 2944 2946 2948 2950 2952 2954 2956 2958 2960 2962 2964 2966 2968 2970 2972 2974 2976 2978 2980 2982 2984 2986 2988 2990 2992 2994 2996 2998 3000 "
          ]
        }
      ]
    },
    {
      "cell_type": "markdown",
      "source": [
        "###`Problem 11`: A robot moves in a plane starting from the original point (0,0). The robot can move toward UP, DOWN, LEFT and RIGHT with a given steps.\n",
        "The trace of robot movement is shown as the following:\n",
        "```\n",
        "UP 5\n",
        "DOWN 3\n",
        "LEFT 3\n",
        "RIGHT 2\n",
        "!\n",
        "```\n",
        "> The numbers after the direction are steps.\n",
        "\n",
        "> `!` means robot stop there.\n",
        "\n",
        "**Please write a program to compute the distance from current position after a sequence of movement and original point.**\n",
        "\n",
        "*If the distance is a float, then just print the nearest integer.*\n",
        "\n",
        "Example:\n",
        "\n",
        "`Input`:\n",
        "```\n",
        "UP 5\n",
        "DOWN 3\n",
        "LEFT 3\n",
        "RIGHT 2\n",
        "!\n",
        "```\n",
        "`Output`:\n",
        "```\n",
        "2\n",
        "```"
      ],
      "metadata": {
        "id": "GV18IINT4mf5"
      }
    },
    {
      "cell_type": "code",
      "source": [
        "# Write code here\n",
        "pos=[0,0]\n",
        "while True:\n",
        "  s=input(\"Enter the direction and steps for the movement of robot\")\n",
        "  if s==\"!\":\n",
        "    break\n",
        "  direction=s.split(\" \")[0]\n",
        "  steps=int(s.split(\" \")[1])\n",
        "  if direction==\"Right\":\n",
        "    pos[0]=pos[0]+steps\n",
        "  elif direction==\"Left\":\n",
        "    pos[0]=pos[0]-steps\n",
        "  elif direction==\"Up\":\n",
        "    pos[1]=pos[1]+steps\n",
        "  elif direction==\"Down\":\n",
        "    pos[1]=pos[1]-steps\n",
        "  else:\n",
        "    pass\n",
        "\n",
        "print((pos[0]**2+pos[1]**2)**0.5)\n",
        "\n",
        "\n"
      ],
      "metadata": {
        "id": "6UNMC2aR4w5x",
        "colab": {
          "base_uri": "https://localhost:8080/"
        },
        "outputId": "0da3d732-a5e4-4207-b7f7-2307f92d43bd"
      },
      "execution_count": 20,
      "outputs": [
        {
          "output_type": "stream",
          "name": "stdout",
          "text": [
            "Enter the direction and steps for the movement of robotUp 5\n",
            "Enter the direction and steps for the movement of robotDown 5\n",
            "Enter the direction and steps for the movement of robotRight 5\n",
            "Enter the direction and steps for the movement of robotLeft 5\n",
            "Enter the direction and steps for the movement of robot!\n",
            "0.0\n"
          ]
        }
      ]
    },
    {
      "cell_type": "markdown",
      "source": [
        "###`Problem 12`:Write a program to print whether a given number is a prime number or not"
      ],
      "metadata": {
        "id": "3fsAIAhK5GYY"
      }
    },
    {
      "cell_type": "code",
      "source": [
        "# Write code here\n",
        "num=int(input(\"Enter any number\"))\n",
        "flag=True\n",
        "for i in range(2,num):\n",
        "  if num%i==0:\n",
        "    flag=False\n",
        "    break\n",
        "if flag==True:\n",
        "  print(\"Prime\")\n",
        "else:\n",
        "  print(\"Not prime\")\n",
        ""
      ],
      "metadata": {
        "id": "j6y91lxy5LZs",
        "colab": {
          "base_uri": "https://localhost:8080/"
        },
        "outputId": "a7074b30-4929-45a4-b983-0f2083ec1f3c"
      },
      "execution_count": 33,
      "outputs": [
        {
          "output_type": "stream",
          "name": "stdout",
          "text": [
            "Enter any number43\n",
            "Prime\n"
          ]
        }
      ]
    },
    {
      "cell_type": "markdown",
      "source": [
        "###`Problem 13`:Print all the Armstrong numbers in a given range.\n",
        "Range will be provided by the user<br>\n",
        "Armstrong number is a number that is equal to the sum of cubes of its digits. For example 0, 1, 153, 370, 371 and 407 are the Armstrong numbers."
      ],
      "metadata": {
        "id": "asAbmbK-5NHv"
      }
    },
    {
      "cell_type": "code",
      "source": [
        "# Write code here\n",
        "num=int(input(\"Enter the number\"))\n",
        "sum=0\n",
        "x=len(str(num))\n",
        "copy_n=num\n",
        "while num>0:\n",
        "  digit=num%10\n",
        "  num=num//10\n",
        "  sum=sum+digit**x\n",
        "print(sum)\n",
        "\n",
        "if sum==copy_n:\n",
        "  print(\"Armstrong num\")\n",
        "else:\n",
        "  print(\"Not Armstrong num\")\n"
      ],
      "metadata": {
        "id": "PZuI67pm5jCT",
        "colab": {
          "base_uri": "https://localhost:8080/"
        },
        "outputId": "247450cf-954d-4f10-e48c-3b8a5e8ceab2"
      },
      "execution_count": 10,
      "outputs": [
        {
          "output_type": "stream",
          "name": "stdout",
          "text": [
            "Enter the number1634\n",
            "1634\n",
            "Armstrong num\n"
          ]
        }
      ]
    },
    {
      "cell_type": "markdown",
      "source": [
        "###`Problem 14`:Calculate the angle between the hour hand and minute hand.\n",
        "\n",
        "Note: There can be two angles between hands; we need to print a minimum of two. Also, we need to print the floor of the final result angle. For example, if the final angle is 10.61, we need to print 10.\n",
        "\n",
        "Input:<br>\n",
        "H = 9 , M = 0<br>\n",
        "Output:<br>\n",
        "90<br>\n",
        "Explanation:<br>\n",
        "The minimum angle between hour and minute\n",
        "hand when the time is 9 is 90 degress."
      ],
      "metadata": {
        "id": "ClCQZMqT7gK0"
      }
    },
    {
      "cell_type": "code",
      "source": [
        "hour=int(input(\"Enter the hour\"))\n",
        "min=int(input(\"Enter the min\"))\n",
        "h_angle=(hour+min/60)*30\n",
        "m_angle=min*6\n",
        "angle1=abs(h_angle-m_angle)\n",
        "angle2=360-angle1\n",
        "if angle1>angle2:\n",
        "  print(angle1)\n",
        "else:\n",
        "  print(angle1)"
      ],
      "metadata": {
        "colab": {
          "base_uri": "https://localhost:8080/"
        },
        "id": "LpvpSsimeIIh",
        "outputId": "0fd7ed22-5a5b-4587-ab8f-abf090d81668"
      },
      "execution_count": 13,
      "outputs": [
        {
          "output_type": "stream",
          "name": "stdout",
          "text": [
            "Enter the hour3\n",
            "Enter the min23\n",
            "36.5\n"
          ]
        }
      ]
    },
    {
      "cell_type": "code",
      "source": [
        "# Write code here\n",
        "def calculate_angle(hour, minute):\n",
        "    # Ensure the hour is within 1 to 12\n",
        "    hour = hour % 12\n",
        "\n",
        "    # Calculate the angle of the hour hand from 12:00\n",
        "    hour_angle = (hour * 30) + (minute * 0.5)\n",
        "\n",
        "    # Calculate the angle of the minute hand from 12:00\n",
        "    minute_angle = minute * 6\n",
        "\n",
        "    # Calculate the absolute difference between the two angles\n",
        "    angle = abs(hour_angle - minute_angle)\n",
        "\n",
        "    # The angle between hands should be the smaller angle, so take the minimum of angle and 360 - angle\n",
        "    angle = min(angle, 360 - angle)\n",
        "\n",
        "    return angle\n",
        "\n",
        "# Example usage:\n",
        "hour = int(input(\"Enter hour (1-12): \"))\n",
        "minute = int(input(\"Enter minute (0-59): \"))\n",
        "angle = calculate_angle(hour, minute)\n",
        "print(f\"The angle between the hour and minute hand is {angle} degrees.\")\n"
      ],
      "metadata": {
        "id": "tNBTCZML7jy_",
        "colab": {
          "base_uri": "https://localhost:8080/"
        },
        "outputId": "23ca15ff-195f-4464-aa8a-7e805dd8aad4"
      },
      "execution_count": 11,
      "outputs": [
        {
          "output_type": "stream",
          "name": "stdout",
          "text": [
            "Enter hour (1-12): 3\n",
            "Enter minute (0-59): 23\n",
            "The angle between the hour and minute hand is 36.5 degrees.\n"
          ]
        }
      ]
    },
    {
      "cell_type": "markdown",
      "source": [
        "###`Problem 15`:Given two rectangles, find if the given two rectangles overlap or not. A rectangle is denoted by providing the x and y coordinates of two points: the left top corner and the right bottom corner of the rectangle. Two rectangles sharing a side are considered overlapping. (L1 and R1 are the extreme points of the first rectangle and L2 and R2 are the extreme points of the second rectangle).\n",
        "\n",
        "Note: It may be assumed that the rectangles are parallel to the coordinate axis.\n",
        "\n",
        "<img src='https://www.geeksforgeeks.org/wp-content/uploads/rectanglesOverlap.png' width='300' height='200'>"
      ],
      "metadata": {
        "id": "GwacF9Co72Qc"
      }
    },
    {
      "cell_type": "code",
      "source": [
        "# Write code here\n",
        "def do_rectangles_overlap(L1, R1, L2, R2):\n",
        "\n",
        "    x1, y1 = L1\n",
        "    x2, y2 = R1\n",
        "    x3, y3 = L2\n",
        "    x4, y4 = R2\n",
        "\n",
        "    # Check for non-overlapping conditions\n",
        "    if (x2 < x3 or x4 < x1 or\n",
        "        y2 > y3 or y4 > y1):\n",
        "        return False  # No overlap\n",
        "\n",
        "    return True  # Overlap exists\n",
        "\n",
        "\n",
        "L1 = (0, 10)\n",
        "R1 = (10, 0)\n",
        "L2 = (5, 5)\n",
        "R2 = (15, -5)\n",
        "\n",
        "if do_rectangles_overlap(L1, R1, L2, R2):\n",
        "    print(\"The rectangles overlap.\")\n",
        "else:\n",
        "    print(\"The rectangles do not overlap.\")\n"
      ],
      "metadata": {
        "id": "6rrw_lpH78Rs",
        "colab": {
          "base_uri": "https://localhost:8080/"
        },
        "outputId": "91031f04-34f3-47f0-ab3a-2c269b89a733"
      },
      "execution_count": 14,
      "outputs": [
        {
          "output_type": "stream",
          "name": "stdout",
          "text": [
            "The rectangles overlap.\n"
          ]
        }
      ]
    },
    {
      "cell_type": "code",
      "source": [],
      "metadata": {
        "id": "BITCGyuZhxYs"
      },
      "execution_count": null,
      "outputs": []
    }
  ]
}