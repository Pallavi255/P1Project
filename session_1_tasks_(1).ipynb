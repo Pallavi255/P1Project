{
  "nbformat": 4,
  "nbformat_minor": 0,
  "metadata": {
    "colab": {
      "provenance": [],
      "include_colab_link": true
    },
    "kernelspec": {
      "name": "python3",
      "display_name": "Python 3"
    },
    "language_info": {
      "name": "python"
    }
  },
  "cells": [
    {
      "cell_type": "markdown",
      "metadata": {
        "id": "view-in-github",
        "colab_type": "text"
      },
      "source": [
        "<a href=\"https://colab.research.google.com/github/Pallavi255/P1Project/blob/main/session_1_tasks_(1).ipynb\" target=\"_parent\"><img src=\"https://colab.research.google.com/assets/colab-badge.svg\" alt=\"Open In Colab\"/></a>"
      ]
    },
    {
      "cell_type": "markdown",
      "source": [
        "# Task : Session 1\n",
        "Solve these questions own your own and try to test yourself what you have learned in the session.\n",
        "\n",
        "Happy Learning!"
      ],
      "metadata": {
        "id": "A05OG15VqOPF"
      }
    },
    {
      "cell_type": "markdown",
      "source": [
        "### Q1 :- Print the given strings as per stated format.\n",
        "\n",
        "**Given strings**:\n",
        "```\n",
        "\"Data\" \"Science\" \"Mentorship\" \"Program\"\n",
        "\"By\" \"CampusX\"\n",
        "```\n",
        "**Output**:\n",
        "```\n",
        "Data-Science-Mentorship-Program-started-By-CampusX\n",
        "```\n",
        "\n",
        "Concept- [Seperator and End]"
      ],
      "metadata": {
        "id": "2doIXf8bqe9_"
      }
    },
    {
      "cell_type": "code",
      "source": [
        "print(\"Data\",\"Science\",\"Mentorship\",\"Program\",sep='-',end='-started-')\n",
        "print(\"By\",\"CampusX\",sep='-')"
      ],
      "metadata": {
        "id": "8bjzRbFCIfCj",
        "outputId": "7cd143fe-448e-4939-8247-c3f8172fd38c",
        "colab": {
          "base_uri": "https://localhost:8080/"
        }
      },
      "execution_count": null,
      "outputs": [
        {
          "output_type": "stream",
          "name": "stdout",
          "text": [
            "Data-Science-Mentorship-Program-started-By-CampusX\n"
          ]
        }
      ]
    },
    {
      "cell_type": "code",
      "source": [],
      "metadata": {
        "id": "uZq7YyDqIbrp"
      },
      "execution_count": null,
      "outputs": []
    },
    {
      "cell_type": "code",
      "source": [
        "# Write your code here"
      ],
      "metadata": {
        "id": "-em6d3KErDtp"
      },
      "execution_count": null,
      "outputs": []
    },
    {
      "cell_type": "markdown",
      "source": [
        "### Q2:- Write a program that will convert celsius value to fahrenheit."
      ],
      "metadata": {
        "id": "1KUpN7ZTrC3_"
      }
    },
    {
      "cell_type": "code",
      "source": [
        "# Write your code here\n",
        "cel=float(input(\"Enter value in celsius\"))\n",
        "fah=cel*9/5+32\n",
        "print(fah)"
      ],
      "metadata": {
        "id": "yxKYhYQiqWfj",
        "outputId": "d94c6776-b444-43db-99e2-152d96d27007",
        "colab": {
          "base_uri": "https://localhost:8080/"
        }
      },
      "execution_count": null,
      "outputs": [
        {
          "output_type": "stream",
          "name": "stdout",
          "text": [
            "Enter value in celsius32\n",
            "89.6\n"
          ]
        }
      ]
    },
    {
      "cell_type": "markdown",
      "source": [
        "### Q3:- Take 2 numbers as input from the user.Write a program to swap the numbers without using any special python syntax."
      ],
      "metadata": {
        "id": "RLrOBBJurLB2"
      }
    },
    {
      "cell_type": "code",
      "source": [
        "# Write your code here\n",
        "num1=int(input(\"Enter the first number\"))\n",
        "num2=int(input(\"Enter the second number\"))\n",
        "temp=num1\n",
        "num1=num2\n",
        "num2=temp\n",
        "print(\"num1 is\",num1)\n",
        "print(\"num2 is\",num2)"
      ],
      "metadata": {
        "id": "yPn7if0TrJ4F",
        "outputId": "025c13df-548a-4aff-c072-2fa9c242d863",
        "colab": {
          "base_uri": "https://localhost:8080/"
        }
      },
      "execution_count": null,
      "outputs": [
        {
          "output_type": "stream",
          "name": "stdout",
          "text": [
            "Enter the first number1\n",
            "Enter the second number2\n",
            "num1 is 2\n",
            "num2 is 1\n"
          ]
        }
      ]
    },
    {
      "cell_type": "markdown",
      "source": [
        "### Q4:- Write a program to find the euclidean distance between two coordinates.Take both the coordinates from the user as input."
      ],
      "metadata": {
        "id": "waLCP1bjr7ML"
      }
    },
    {
      "cell_type": "code",
      "source": [
        "# Write your code here\n",
        "x1=int(input(\"Enter the first x coordinate\"))\n",
        "x2=int(input(\"Enter the second x coordinate\"))\n",
        "y1=int(input(\"Enter the first y coordinate\"))\n",
        "y2=int(input(\"Enter the second y coordinate\"))\n",
        "dis=((x2-x1)**2-(y2-y1)**2)**1/2\n",
        "print(dis)"
      ],
      "metadata": {
        "id": "Pl1Sv-xnrxnH",
        "outputId": "798c444d-3cee-4745-baa2-b41a4eca2555",
        "colab": {
          "base_uri": "https://localhost:8080/"
        }
      },
      "execution_count": null,
      "outputs": [
        {
          "output_type": "stream",
          "name": "stdout",
          "text": [
            "Enter the first x coordinate23\n",
            "Enter the second x coordinate11\n",
            "Enter the first y coordinate45\n",
            "Enter the second y coordinate32\n",
            "-12.5\n"
          ]
        }
      ]
    },
    {
      "cell_type": "markdown",
      "source": [
        "### Q5:- Write a program to find the simple interest when the value of principle,rate of interest and time period is provided by the user.\n"
      ],
      "metadata": {
        "id": "VLrhg-FRsHjR"
      }
    },
    {
      "cell_type": "code",
      "source": [
        "# Write your code here\n",
        "principal=int(input(\"Enter the value of principal\"))\n",
        "rate=float(input(\"Enter the value of rate of interest\"))\n",
        "time=int(input(\"Enter the value of time period\"))\n",
        "SI=(principal*rate*time)/100\n",
        "print(SI)"
      ],
      "metadata": {
        "id": "s40DlReZsTmY",
        "outputId": "efef87df-2684-4e4a-d718-fbf3a34022c1",
        "colab": {
          "base_uri": "https://localhost:8080/"
        }
      },
      "execution_count": null,
      "outputs": [
        {
          "output_type": "stream",
          "name": "stdout",
          "text": [
            "Enter the value of principal10000\n",
            "Enter the value of rate of interest5\n",
            "Enter the value of time period2\n",
            "1000.0\n"
          ]
        }
      ]
    },
    {
      "cell_type": "markdown",
      "source": [
        "### Q6:- Write a program that will tell the number of dogs and chicken are there when the user will provide the value of total heads and legs.\n",
        "\n",
        "For example:\n",
        "Input:\n",
        "heads -> 4\n",
        "legs -> 12\n",
        "<br>\n",
        "Output:\n",
        "dogs -> 2\n",
        "chicken -> 2\n",
        "\n",
        "\n",
        "\n"
      ],
      "metadata": {
        "id": "LMy0BTUktYKa"
      }
    },
    {
      "cell_type": "code",
      "source": [
        "# Write your code here\n",
        "heads=int(input(\"Enter the number of heads\"))\n",
        "legs=int(input(\"Enter the number of legs\"))\n",
        "h=D+C\n",
        "4=d+c\n",
        "12=4*(4-C) + 2*chicken\n",
        "12=16-4C+2C\n",
        "2C=4\n",
        "C=2\n",
        "D=2\n",
        "\n",
        "print(\"number of chicken\",c)\n",
        "print(\"number of dogs\",d)\n",
        "\n"
      ],
      "metadata": {
        "id": "XSBvJoA4tXaG",
        "outputId": "9d0fbb0d-b22c-47c8-d201-88177fb05801",
        "colab": {
          "base_uri": "https://localhost:8080/",
          "height": 106
        }
      },
      "execution_count": 1,
      "outputs": [
        {
          "output_type": "error",
          "ename": "SyntaxError",
          "evalue": "invalid decimal literal (<ipython-input-1-a64cc38f1f48>, line 7)",
          "traceback": [
            "\u001b[0;36m  File \u001b[0;32m\"<ipython-input-1-a64cc38f1f48>\"\u001b[0;36m, line \u001b[0;32m7\u001b[0m\n\u001b[0;31m    12=16-4C+2C\u001b[0m\n\u001b[0m          ^\u001b[0m\n\u001b[0;31mSyntaxError\u001b[0m\u001b[0;31m:\u001b[0m invalid decimal literal\n"
          ]
        }
      ]
    },
    {
      "cell_type": "markdown",
      "source": [
        "### Q7:- Write a program to find the sum of squares of first n natural numbers where n will be provided by the user."
      ],
      "metadata": {
        "id": "gJ7C5kZYt4BP"
      }
    },
    {
      "cell_type": "code",
      "source": [
        "# Write your code here\n",
        "n=int(input(\"Enter any number upto which you want to see sum of squares of all previous numbers\"))\n",
        "sum=0\n",
        "for i in range(n+1):\n",
        "  sq=i**2\n",
        "  sum=sum+sq\n",
        "print(sum)"
      ],
      "metadata": {
        "id": "_tHsmEHzt2nX",
        "outputId": "b891389a-76ee-4e56-eec1-e6612ef53b8d",
        "colab": {
          "base_uri": "https://localhost:8080/"
        }
      },
      "execution_count": null,
      "outputs": [
        {
          "output_type": "stream",
          "name": "stdout",
          "text": [
            "Enter any number upto which you want to see sum of squares of all previous numbers3\n",
            "14\n"
          ]
        }
      ]
    },
    {
      "cell_type": "markdown",
      "source": [
        "### Q8:- Given the first 2 terms of an Arithmetic Series.Find the Nth term of the series. Assume all inputs are provided by the user."
      ],
      "metadata": {
        "id": "FHrMM7g-yG1h"
      }
    },
    {
      "cell_type": "code",
      "source": [
        "# Write your code here\n",
        "term1=int(input(\"Enter the first term\"))\n",
        "term2=int(input(\"Enter the second term\"))\n",
        "n=int(input(\"input the nth number\"))\n",
        "d=term2-term1\n",
        "nth=term1+(n-1)*d\n",
        "print(nth)"
      ],
      "metadata": {
        "id": "go4_kmZmyVSx",
        "outputId": "b8b86112-046c-42de-9345-6a75e53bc980",
        "colab": {
          "base_uri": "https://localhost:8080/"
        }
      },
      "execution_count": null,
      "outputs": [
        {
          "output_type": "stream",
          "name": "stdout",
          "text": [
            "Enter the first term2\n",
            "Enter the second term4\n",
            "input the nth number3\n",
            "6\n"
          ]
        }
      ]
    },
    {
      "cell_type": "markdown",
      "source": [
        "### Q9:- Given 2 fractions, find the sum of those 2 fractions.Take the numerator and denominator values of the fractions from the user."
      ],
      "metadata": {
        "id": "QgyRX_es1oum"
      }
    },
    {
      "cell_type": "code",
      "source": [
        "# Write your code here\n",
        "n1=int(input(\"Enter the numerator of first fraction\"))\n",
        "d1=int(input(\"Enter the dinominator of first fraction\"))\n",
        "n2=int(input(\"Enter the numerator of second fraction\"))\n",
        "d2=int(input(\"Enter the dinominator of second fraction\"))\n",
        "fn=n1*d2+n2*d1\n",
        "fd=d1*d2\n",
        "print('{}/{}'.format(fn,fd))"
      ],
      "metadata": {
        "id": "X05xqFS1yW16",
        "outputId": "c8cd2be0-6950-45e1-9b4c-447b82a11f53",
        "colab": {
          "base_uri": "https://localhost:8080/"
        }
      },
      "execution_count": null,
      "outputs": [
        {
          "output_type": "stream",
          "name": "stdout",
          "text": [
            "Enter the numerator of first fraction3\n",
            "Enter the dinominator of first fraction7\n",
            "Enter the numerator of second fraction2\n",
            "Enter the dinominator of second fraction11\n",
            "47/77\n"
          ]
        }
      ]
    },
    {
      "cell_type": "markdown",
      "source": [
        "### Q10:- Given the height, width and breadth of a milk tank, you have to find out how many glasses of milk can be obtained? Assume all the inputs are provided by the user.\n",
        "\n",
        "\n",
        "\n",
        "Input:<br>\n",
        "Dimensions of the milk tank<br>\n",
        "H = 20cm, L = 20cm, B = 20cm\n",
        "<br><br>\n",
        "Dimensions of the glass<br>\n",
        "h = 3cm, r = 1cm"
      ],
      "metadata": {
        "id": "eaql38ln13u7"
      }
    },
    {
      "cell_type": "code",
      "source": [
        "# Write your code here\n",
        "H=int(input(\"Enter the height of milk tank\"))\n",
        "L=int(input(\"Enter the length of milk tank\"))\n",
        "B=int(input(\"Enter the breadth of milk tank\"))\n",
        "\n",
        "h=int(input(\"Enter the height of glass\"))\n",
        "r=int(input(\"Enter the height of milk glass\"))\n",
        "\n",
        "Vol1=H*L*B\n",
        "Vol2=3.14*r*r*h\n",
        "import math\n",
        "\n",
        "numofglasses=math.floor(Vol1/Vol2)\n",
        "print(numofglasses)\n"
      ],
      "metadata": {
        "id": "FePZqno74eWv",
        "outputId": "c7ecd2ca-374b-4c0f-a2c9-7d4553abd10e",
        "colab": {
          "base_uri": "https://localhost:8080/"
        }
      },
      "execution_count": null,
      "outputs": [
        {
          "output_type": "stream",
          "name": "stdout",
          "text": [
            "Enter the height of milk tank10\n",
            "Enter the length of milk tank19\n",
            "Enter the breadth of milk tank10\n",
            "Enter the height of glass5\n",
            "Enter the height of milk glass2\n",
            "30\n"
          ]
        }
      ]
    },
    {
      "cell_type": "code",
      "source": [],
      "metadata": {
        "id": "dy1ihSC6j9nm"
      },
      "execution_count": null,
      "outputs": []
    }
  ]
}